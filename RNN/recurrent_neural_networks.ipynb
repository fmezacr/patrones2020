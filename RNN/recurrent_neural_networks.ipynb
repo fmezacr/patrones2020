{
 "cells": [
  {
   "cell_type": "markdown",
   "metadata": {
    "colab_type": "text",
    "id": "XaJi6JWFVUc0"
   },
   "source": [
    "# Recurrent Neural Networks"
   ]
  },
  {
   "cell_type": "markdown",
   "metadata": {},
   "source": [
    "Adapted from Building Machine Learning and Deep Learning Models on Google Cloud Platform - Ekaba Bisong"
   ]
  },
  {
   "cell_type": "markdown",
   "metadata": {
    "colab_type": "text",
    "id": "-CiPbtTYVcLI"
   },
   "source": [
    "## Univariate Timeseries"
   ]
  },
  {
   "cell_type": "code",
   "execution_count": 2,
   "metadata": {
    "colab": {},
    "colab_type": "code",
    "id": "XV-KIc_L2i4b"
   },
   "outputs": [],
   "source": [
    "# import packages\n",
    "import tensorflow as tf\n",
    "import pandas as pd\n",
    "import numpy as np\n",
    "import matplotlib.pyplot as plt\n",
    "from sklearn.model_selection import train_test_split\n",
    "from sklearn.preprocessing import MinMaxScaler"
   ]
  },
  {
   "cell_type": "code",
   "execution_count": 3,
   "metadata": {
    "colab": {},
    "colab_type": "code",
    "id": "K2jvzJqkVx0J"
   },
   "outputs": [
    {
     "name": "stderr",
     "output_type": "stream",
     "text": [
      "/Users/fmezaoba/miniconda3/envs/ML/lib/python3.7/site-packages/ipykernel_launcher.py:2: FutureWarning: The pandas.datetime class is deprecated and will be removed from pandas in a future version. Import from datetime module instead.\n",
      "  \n"
     ]
    }
   ],
   "source": [
    "# load data\n",
    "parse_date = lambda dates: pd.datetime.strptime(dates, '%d-%m')\n",
    "data = pd.read_csv('nigeria-power-consumption.csv', parse_dates=['Month'], index_col='Month',\n",
    "                   date_parser=parse_date,\n",
    "                   engine='python', skipfooter=2)"
   ]
  },
  {
   "cell_type": "code",
   "execution_count": 4,
   "metadata": {
    "colab": {
     "base_uri": "https://localhost:8080/",
     "height": 34
    },
    "colab_type": "code",
    "id": "hbfgkAEIVztk",
    "outputId": "8741397d-c18e-4033-eadf-755799832986"
   },
   "outputs": [
    {
     "data": {
      "text/plain": [
       "Index(['Nigeria power consumption'], dtype='object')"
      ]
     },
     "execution_count": 4,
     "metadata": {},
     "output_type": "execute_result"
    }
   ],
   "source": [
    "# print column name\n",
    "data.columns"
   ]
  },
  {
   "cell_type": "code",
   "execution_count": 5,
   "metadata": {
    "colab": {},
    "colab_type": "code",
    "id": "krsdMB6hV07T"
   },
   "outputs": [],
   "source": [
    "# change column names\n",
    "data.rename(columns={'Nigeria power consumption': 'power-consumption'},\n",
    "            inplace=True)"
   ]
  },
  {
   "cell_type": "code",
   "execution_count": 6,
   "metadata": {
    "colab": {},
    "colab_type": "code",
    "id": "GOYFMPqXV2nj"
   },
   "outputs": [],
   "source": [
    "# split in training and evaluation set\n",
    "data_train, data_eval = train_test_split(data, test_size=0.2, shuffle=False)"
   ]
  },
  {
   "cell_type": "code",
   "execution_count": 7,
   "metadata": {
    "colab": {},
    "colab_type": "code",
    "id": "IyilIy3RV4Ic"
   },
   "outputs": [],
   "source": [
    "# MinMaxScaler - center and scale the dataset\n",
    "scaler = MinMaxScaler(feature_range=(0, 1))\n",
    "data_train = scaler.fit_transform(data_train)\n",
    "data_eval = scaler.fit_transform(data_eval)"
   ]
  },
  {
   "cell_type": "code",
   "execution_count": 58,
   "metadata": {
    "colab": {},
    "colab_type": "code",
    "id": "lxXwLiD9V6DF"
   },
   "outputs": [],
   "source": [
    "# adjust univariate data for timeseries prediction\n",
    "def convert_to_sequences(data, sequence, is_target=False):\n",
    "    temp_df = []\n",
    "    for i in range(len(data) - sequence):\n",
    "        if is_target:\n",
    "            temp_df.append(data[(i+1): (i+1) + sequence])\n",
    "        else:\n",
    "            temp_df.append(data[i: i + sequence])\n",
    "    return np.array(temp_df)"
   ]
  },
  {
   "cell_type": "code",
   "execution_count": 59,
   "metadata": {
    "colab": {},
    "colab_type": "code",
    "id": "7n4IgB1BV7tt"
   },
   "outputs": [],
   "source": [
    "# parameters\n",
    "time_steps = 20\n",
    "batch_size = 50"
   ]
  },
  {
   "cell_type": "code",
   "execution_count": 60,
   "metadata": {
    "colab": {},
    "colab_type": "code",
    "id": "1wmnOzzfV8-3"
   },
   "outputs": [],
   "source": [
    "# create training and testing data\n",
    "train_x = convert_to_sequences(data_train, time_steps, is_target=False)\n",
    "train_y = convert_to_sequences(data_train, time_steps, is_target=True)\n",
    "\n",
    "eval_x = convert_to_sequences(data_eval, time_steps, is_target=False)\n",
    "eval_y = convert_to_sequences(data_eval, time_steps, is_target=True)"
   ]
  },
  {
   "cell_type": "code",
   "execution_count": 61,
   "metadata": {
    "colab": {
     "base_uri": "https://localhost:8080/",
     "height": 105
    },
    "colab_type": "code",
    "id": "dItg-AJ8V-i1",
    "outputId": "3b911c2c-0fa3-440b-ae83-547f506b8641"
   },
   "outputs": [],
   "source": [
    "# build model\n",
    "model = tf.keras.Sequential()\n",
    "model.add(tf.keras.layers.LSTM(128, input_shape=train_x.shape[1:],\n",
    "                               return_sequences=True))\n",
    "model.add(tf.keras.layers.Dense(1))\n",
    "\n",
    "# compile the model\n",
    "model.compile(loss='mean_squared_error',\n",
    "              optimizer='adam',\n",
    "              metrics=['mse'])"
   ]
  },
  {
   "cell_type": "code",
   "execution_count": 62,
   "metadata": {
    "colab": {
     "base_uri": "https://localhost:8080/",
     "height": 221
    },
    "colab_type": "code",
    "id": "XztmcZFJWB0C",
    "outputId": "55b3d175-75dc-4062-a953-db17822953b1"
   },
   "outputs": [
    {
     "name": "stdout",
     "output_type": "stream",
     "text": [
      "Model: \"sequential_4\"\n",
      "_________________________________________________________________\n",
      "Layer (type)                 Output Shape              Param #   \n",
      "=================================================================\n",
      "lstm_4 (LSTM)                (None, 20, 128)           66560     \n",
      "_________________________________________________________________\n",
      "dense_4 (Dense)              (None, 20, 1)             129       \n",
      "=================================================================\n",
      "Total params: 66,689\n",
      "Trainable params: 66,689\n",
      "Non-trainable params: 0\n",
      "_________________________________________________________________\n"
     ]
    }
   ],
   "source": [
    "# print model summary\n",
    "model.summary()"
   ]
  },
  {
   "cell_type": "code",
   "execution_count": 63,
   "metadata": {
    "colab": {},
    "colab_type": "code",
    "id": "27dYvewkWOam"
   },
   "outputs": [],
   "source": [
    "# create dataset pipeline\n",
    "train_ds = tf.data.Dataset.from_tensor_slices(\n",
    "    (train_x, train_y)).shuffle(len(train_x)).repeat().batch(batch_size)\n",
    "test_ds = tf.data.Dataset.from_tensor_slices((eval_x, eval_y)).batch(batch_size)"
   ]
  },
  {
   "cell_type": "code",
   "execution_count": 64,
   "metadata": {
    "colab": {
     "base_uri": "https://localhost:8080/",
     "height": 357
    },
    "colab_type": "code",
    "id": "Frgl_m1zl4G7",
    "outputId": "0f2aa65c-f7c5-45cd-8561-ee86e5e2409b"
   },
   "outputs": [
    {
     "name": "stdout",
     "output_type": "stream",
     "text": [
      "Epoch 1/10\n",
      "500/500 [==============================] - 9s 18ms/step - loss: 0.0067 - mean_squared_error: 0.0067\n",
      "Epoch 2/10\n",
      "500/500 [==============================] - 8s 17ms/step - loss: 0.0038 - mean_squared_error: 0.0038\n",
      "Epoch 3/10\n",
      "500/500 [==============================] - 8s 16ms/step - loss: 0.0036 - mean_squared_error: 0.0036\n",
      "Epoch 4/10\n",
      "500/500 [==============================] - 8s 16ms/step - loss: 0.0033 - mean_squared_error: 0.0033\n",
      "Epoch 5/10\n",
      "500/500 [==============================] - 8s 17ms/step - loss: 0.0026 - mean_squared_error: 0.0026\n",
      "Epoch 6/10\n",
      "500/500 [==============================] - 9s 19ms/step - loss: 0.0019 - mean_squared_error: 0.0019\n",
      "Epoch 7/10\n",
      "500/500 [==============================] - 9s 17ms/step - loss: 0.0017 - mean_squared_error: 0.0017\n",
      "Epoch 8/10\n",
      "500/500 [==============================] - 9s 18ms/step - loss: 0.0015 - mean_squared_error: 0.0015\n",
      "Epoch 9/10\n",
      "500/500 [==============================] - 8s 17ms/step - loss: 0.0014 - mean_squared_error: 0.0014\n",
      "Epoch 10/10\n",
      "500/500 [==============================] - 9s 17ms/step - loss: 0.0014 - mean_squared_error: 0.0014\n"
     ]
    }
   ],
   "source": [
    "# train the model\n",
    "history = model.fit(train_ds, epochs=10,\n",
    "                    steps_per_epoch=500)"
   ]
  },
  {
   "cell_type": "code",
   "execution_count": 65,
   "metadata": {
    "colab": {
     "base_uri": "https://localhost:8080/",
     "height": 34
    },
    "colab_type": "code",
    "id": "7yW0oVAzWrnC",
    "outputId": "2014d0f3-8ce6-453f-ec63-22b5d09c35a6"
   },
   "outputs": [
    {
     "name": "stdout",
     "output_type": "stream",
     "text": [
      "1/1 [==============================] - 0s 241ms/step - loss: 0.0422 - mean_squared_error: 0.0422\n"
     ]
    }
   ],
   "source": [
    "# evaluate the model\n",
    "loss, mse = model.evaluate(test_ds)"
   ]
  },
  {
   "cell_type": "code",
   "execution_count": 66,
   "metadata": {
    "colab": {
     "base_uri": "https://localhost:8080/",
     "height": 51
    },
    "colab_type": "code",
    "id": "gXbtwLuzW0Gm",
    "outputId": "7ec4e39b-13b5-4403-cb7e-91ce9eb91e63"
   },
   "outputs": [
    {
     "name": "stdout",
     "output_type": "stream",
     "text": [
      "Test loss: 0.0422\n",
      "Test mse: 0.0422\n"
     ]
    }
   ],
   "source": [
    "print('Test loss: {:.4f}'.format(loss))\n",
    "print('Test mse: {:.4f}'.format(mse))"
   ]
  },
  {
   "cell_type": "code",
   "execution_count": 67,
   "metadata": {
    "colab": {},
    "colab_type": "code",
    "id": "fEYZCYljW6UM"
   },
   "outputs": [],
   "source": [
    "# predict\n",
    "y_pred = model.predict(eval_x)"
   ]
  },
  {
   "cell_type": "code",
   "execution_count": 68,
   "metadata": {
    "colab": {
     "base_uri": "https://localhost:8080/",
     "height": 295
    },
    "colab_type": "code",
    "id": "pWMWAnLsW7YU",
    "outputId": "4ed65514-18fd-4b5d-d25c-cb16bceef643"
   },
   "outputs": [
    {
     "data": {
      "image/png": "[encoded data removed]",
      "text/plain": [
       "<Figure size 432x288 with 1 Axes>"
      ]
     },
     "metadata": {
      "needs_background": "light"
     },
     "output_type": "display_data"
    }
   ],
   "source": [
    "# plot predicted sequence\n",
    "plt.title(\"Model Testing\", fontsize=12)\n",
    "plt.plot(eval_x[0,:,0], \"b--\", markersize=10, label=\"training instance\")\n",
    "plt.plot(eval_y[0,:,0], \"g--\", markersize=10, label=\"targets\")\n",
    "plt.plot(y_pred[0,:,0], \"r--\", markersize=10, label=\"model prediction\")\n",
    "plt.legend(loc=\"upper left\")\n",
    "plt.xlabel(\"Time\")\n",
    "plt.show()\n",
    "# plt.savefig('lstm-ts-model-testing.png', dpi=800)"
   ]
  },
  {
   "cell_type": "markdown",
   "metadata": {
    "colab_type": "text",
    "id": "1QrlEPNv4Yba"
   },
   "source": [
    "## Multivariate Timeseries"
   ]
  },
  {
   "cell_type": "code",
   "execution_count": 69,
   "metadata": {
    "colab": {},
    "colab_type": "code",
    "id": "D70YgaOY4Ybg"
   },
   "outputs": [],
   "source": [
    "# import packages\n",
    "import tensorflow as tf\n",
    "import pandas as pd\n",
    "import numpy as np\n",
    "import matplotlib.pyplot as plt\n",
    "from sklearn.model_selection import train_test_split\n",
    "from sklearn.preprocessing import MinMaxScaler"
   ]
  },
  {
   "cell_type": "code",
   "execution_count": 70,
   "metadata": {
    "colab": {},
    "colab_type": "code",
    "id": "hwZYidEe4Ybp"
   },
   "outputs": [],
   "source": [
    "# load data\n",
    "data = pd.read_csv('dow_jones_index.data', parse_dates=['date'], index_col='date')"
   ]
  },
  {
   "cell_type": "code",
   "execution_count": 71,
   "metadata": {
    "colab": {
     "base_uri": "https://localhost:8080/",
     "height": 119
    },
    "colab_type": "code",
    "id": "gzyvak_o4Ybq",
    "outputId": "67e36db5-850a-4fb0-9b74-eb00c00a753b"
   },
   "outputs": [
    {
     "data": {
      "text/plain": [
       "Index(['quarter', 'stock', 'open', 'high', 'low', 'close', 'volume',\n",
       "       'percent_change_price', 'percent_change_volume_over_last_wk',\n",
       "       'previous_weeks_volume', 'next_weeks_open', 'next_weeks_close',\n",
       "       'percent_change_next_weeks_price', 'days_to_next_dividend',\n",
       "       'percent_return_next_dividend'],\n",
       "      dtype='object')"
      ]
     },
     "execution_count": 71,
     "metadata": {},
     "output_type": "execute_result"
    }
   ],
   "source": [
    "# print column name\n",
    "data.columns"
   ]
  },
  {
   "cell_type": "code",
   "execution_count": 72,
   "metadata": {
    "colab": {
     "base_uri": "https://localhost:8080/",
     "height": 289
    },
    "colab_type": "code",
    "id": "2FppKoUs4Ybt",
    "outputId": "770348b8-e764-4a05-82eb-d55cad9ae9d0"
   },
   "outputs": [
    {
     "data": {
      "text/plain": [
       "quarter                                 int64\n",
       "stock                                  object\n",
       "open                                   object\n",
       "high                                   object\n",
       "low                                    object\n",
       "close                                  object\n",
       "volume                                  int64\n",
       "percent_change_price                  float64\n",
       "percent_change_volume_over_last_wk    float64\n",
       "previous_weeks_volume                 float64\n",
       "next_weeks_open                        object\n",
       "next_weeks_close                       object\n",
       "percent_change_next_weeks_price       float64\n",
       "days_to_next_dividend                   int64\n",
       "percent_return_next_dividend          float64\n",
       "dtype: object"
      ]
     },
     "execution_count": 72,
     "metadata": {},
     "output_type": "execute_result"
    }
   ],
   "source": [
    "# print column datatypes\n",
    "data.dtypes"
   ]
  },
  {
   "cell_type": "code",
   "execution_count": 73,
   "metadata": {
    "colab": {},
    "colab_type": "code",
    "id": "WIz-IN254Ybx"
   },
   "outputs": [],
   "source": [
    "# parameters\n",
    "outputs = 1\n",
    "stock ='BAC'  # Bank of America"
   ]
  },
  {
   "cell_type": "code",
   "execution_count": 74,
   "metadata": {
    "colab": {},
    "colab_type": "code",
    "id": "n1hP3NbZ4Yb0"
   },
   "outputs": [],
   "source": [
    "def clean_dataset(data):\n",
    "    # strip dollar sign from `object` type columns\n",
    "    col = ['open', 'high', 'low', 'close', 'next_weeks_open', 'next_weeks_close']\n",
    "    data[col] = data[col].replace({'\\$': ''}, regex=True)\n",
    "    # drop NaN\n",
    "    data.dropna(inplace=True)\n",
    "    # rearrange columns\n",
    "    columns = ['quarter', 'stock', 'open', 'high', 'low', 'close', 'volume',\n",
    "       'percent_change_price', 'percent_change_volume_over_last_wk',\n",
    "       'previous_weeks_volume', 'next_weeks_open', 'next_weeks_close',\n",
    "       'days_to_next_dividend', 'percent_return_next_dividend',\n",
    "       'percent_change_next_weeks_price']\n",
    "    data = data[columns]\n",
    "    return data"
   ]
  },
  {
   "cell_type": "code",
   "execution_count": 75,
   "metadata": {
    "colab": {},
    "colab_type": "code",
    "id": "nC9woAzz4Yb2"
   },
   "outputs": [],
   "source": [
    "def data_transform(data):\n",
    "    # select stock data belonging to Bank of America\n",
    "    data = data[data.stock == stock]\n",
    "    # adjust target(t) to depend on input (t-1)\n",
    "    data.percent_change_next_weeks_price = data.percent_change_next_weeks_price.shift(-1)\n",
    "    # remove nans as a result of the shifted values\n",
    "    data = data.iloc[:-1,:]\n",
    "    # split quarter 1 as training data and quarter 2 as testing data\n",
    "    train_df = data[data.quarter == 1]\n",
    "    test_df = data[data.quarter == 2]   \n",
    "    return (np.array(train_df), np.array(test_df))"
   ]
  },
  {
   "cell_type": "code",
   "execution_count": 76,
   "metadata": {
    "colab": {},
    "colab_type": "code",
    "id": "M-0QjI9p4Yb6"
   },
   "outputs": [],
   "source": [
    "def normalize_and_scale(train_df, test_df):\n",
    "    # remove string columns and convert to float\n",
    "    train_df = train_df[:,2:].astype(float,copy=False)\n",
    "    test_df = test_df[:,2:].astype(float,copy=False)\n",
    "    # MinMaxScaler - center and scale the dataset\n",
    "    scaler = MinMaxScaler(feature_range=(0, 1))    \n",
    "    train_df_scale = scaler.fit_transform(train_df[:,2:])\n",
    "    test_df_scale = scaler.fit_transform(test_df[:,2:])  \n",
    "    return (scaler, train_df_scale, test_df_scale)"
   ]
  },
  {
   "cell_type": "code",
   "execution_count": 77,
   "metadata": {
    "colab": {},
    "colab_type": "code",
    "id": "-p4tWxXE4YcG"
   },
   "outputs": [],
   "source": [
    "# clean the dataset\n",
    "data = clean_dataset(data)"
   ]
  },
  {
   "cell_type": "code",
   "execution_count": 79,
   "metadata": {
    "colab": {
     "base_uri": "https://localhost:8080/",
     "height": 119
    },
    "colab_type": "code",
    "id": "igMf8ChG4YcN",
    "outputId": "d4a849c9-37a8-4c69-8d72-a261d465d494"
   },
   "outputs": [
    {
     "name": "stderr",
     "output_type": "stream",
     "text": [
      "/Users/fmezaoba/miniconda3/envs/ML/lib/python3.7/site-packages/pandas/core/generic.py:5159: SettingWithCopyWarning: \n",
      "A value is trying to be set on a copy of a slice from a DataFrame.\n",
      "Try using .loc[row_indexer,col_indexer] = value instead\n",
      "\n",
      "See the caveats in the documentation: https://pandas.pydata.org/pandas-docs/stable/user_guide/indexing.html#returning-a-view-versus-a-copy\n",
      "  self[name] = value\n"
     ]
    }
   ],
   "source": [
    "# select Dow Jones stock and split into training and test sets\n",
    "train_df, test_df = data_transform(data)"
   ]
  },
  {
   "cell_type": "code",
   "execution_count": 80,
   "metadata": {
    "colab": {},
    "colab_type": "code",
    "id": "3cXwgOCx4YcQ"
   },
   "outputs": [],
   "source": [
    "# scale the data\n",
    "scaler, train_df_scaled, test_df_scaled = normalize_and_scale(train_df, test_df)"
   ]
  },
  {
   "cell_type": "code",
   "execution_count": 81,
   "metadata": {
    "colab": {},
    "colab_type": "code",
    "id": "w4TmeaZl4YcS"
   },
   "outputs": [],
   "source": [
    "# split train/ test\n",
    "train_X, train_y = train_df_scaled[:, :-1], train_df_scaled[:, -1]\n",
    "test_X, test_y = test_df_scaled[:, :-1], test_df_scaled[:, -1]"
   ]
  },
  {
   "cell_type": "code",
   "execution_count": 82,
   "metadata": {
    "colab": {},
    "colab_type": "code",
    "id": "dnyoT2-94YcW"
   },
   "outputs": [],
   "source": [
    "# reshape inputs to 3D array\n",
    "train_X = train_X[:,None,:]\n",
    "test_X = test_X[:,None,:]"
   ]
  },
  {
   "cell_type": "code",
   "execution_count": 83,
   "metadata": {
    "colab": {},
    "colab_type": "code",
    "id": "_nb3rmkY4Yca"
   },
   "outputs": [],
   "source": [
    "# reshape outputs\n",
    "train_y = np.reshape(train_y, (-1,outputs))\n",
    "test_y = np.reshape(test_y, (-1,outputs))"
   ]
  },
  {
   "cell_type": "code",
   "execution_count": 84,
   "metadata": {
    "colab": {},
    "colab_type": "code",
    "id": "TeLjlCgN4Ycc"
   },
   "outputs": [],
   "source": [
    "# model parameters\n",
    "batch_size = int(train_X.shape[0]/5)\n",
    "length = train_X.shape[0]"
   ]
  },
  {
   "cell_type": "code",
   "execution_count": 85,
   "metadata": {
    "colab": {
     "base_uri": "https://localhost:8080/",
     "height": 241
    },
    "colab_type": "code",
    "id": "R6Jpfgkm4Ycm",
    "outputId": "695ae640-8292-4b64-9033-f2e4e0d34752"
   },
   "outputs": [],
   "source": [
    "# build model\n",
    "model = tf.keras.Sequential()\n",
    "model.add(tf.keras.layers.GRU(128, input_shape=train_X.shape[1:],\n",
    "                               return_sequences=True))\n",
    "model.add(tf.keras.layers.GRU(100, return_sequences=True))\n",
    "model.add(tf.keras.layers.GRU(64))\n",
    "model.add(tf.keras.layers.Dense(1))\n",
    "\n",
    "# compile the model\n",
    "model.compile(loss='mean_squared_error',\n",
    "              optimizer='adam',\n",
    "              metrics=['mse'])"
   ]
  },
  {
   "cell_type": "code",
   "execution_count": 86,
   "metadata": {
    "colab": {
     "base_uri": "https://localhost:8080/",
     "height": 289
    },
    "colab_type": "code",
    "id": "YCQ3n4r34Ycz",
    "outputId": "8d57d9a0-0353-4774-a7c7-9b6b829e8fa3"
   },
   "outputs": [
    {
     "name": "stdout",
     "output_type": "stream",
     "text": [
      "Model: \"sequential_5\"\n",
      "_________________________________________________________________\n",
      "Layer (type)                 Output Shape              Param #   \n",
      "=================================================================\n",
      "gru (GRU)                    (None, 1, 128)            53376     \n",
      "_________________________________________________________________\n",
      "gru_1 (GRU)                  (None, 1, 100)            68700     \n",
      "_________________________________________________________________\n",
      "gru_2 (GRU)                  (None, 64)                31680     \n",
      "_________________________________________________________________\n",
      "dense_5 (Dense)              (None, 1)                 65        \n",
      "=================================================================\n",
      "Total params: 153,821\n",
      "Trainable params: 153,821\n",
      "Non-trainable params: 0\n",
      "_________________________________________________________________\n"
     ]
    }
   ],
   "source": [
    "# print model summary\n",
    "model.summary()"
   ]
  },
  {
   "cell_type": "code",
   "execution_count": 87,
   "metadata": {
    "colab": {},
    "colab_type": "code",
    "id": "mFh3w3Zb4Yc4"
   },
   "outputs": [],
   "source": [
    "# create dataset pipeline\n",
    "train_ds = tf.data.Dataset.from_tensor_slices(\n",
    "    (train_X, train_y)).shuffle(len(train_X)).repeat().batch(batch_size)\n",
    "test_ds = tf.data.Dataset.from_tensor_slices((test_X, test_y)).batch(batch_size)"
   ]
  },
  {
   "cell_type": "code",
   "execution_count": 88,
   "metadata": {
    "colab": {
     "base_uri": "https://localhost:8080/",
     "height": 357
    },
    "colab_type": "code",
    "id": "pHgdAMmZ4Yc5",
    "outputId": "6e393577-d299-4024-a3b3-7fb18a8d4d67"
   },
   "outputs": [
    {
     "name": "stdout",
     "output_type": "stream",
     "text": [
      "Epoch 1/15\n",
      "500/500 [==============================] - 3s 6ms/step - loss: 0.0256 - mean_squared_error: 0.0256\n",
      "Epoch 2/15\n",
      "500/500 [==============================] - 2s 4ms/step - loss: 0.0014 - mean_squared_error: 0.0014\n",
      "Epoch 3/15\n",
      "500/500 [==============================] - 2s 4ms/step - loss: 9.2367e-05 - mean_squared_error: 9.2367e-05\n",
      "Epoch 4/15\n",
      "500/500 [==============================] - 2s 4ms/step - loss: 0.0019 - mean_squared_error: 0.0019\n",
      "Epoch 5/15\n",
      "500/500 [==============================] - 2s 4ms/step - loss: 7.7830e-07 - mean_squared_error: 7.7830e-07\n",
      "Epoch 6/15\n",
      "500/500 [==============================] - 2s 4ms/step - loss: 2.2525e-04 - mean_squared_error: 2.2525e-04\n",
      "Epoch 7/15\n",
      "500/500 [==============================] - 2s 4ms/step - loss: 7.8908e-04 - mean_squared_error: 7.8908e-04\n",
      "Epoch 8/15\n",
      "500/500 [==============================] - 2s 4ms/step - loss: 3.4327e-04 - mean_squared_error: 3.4327e-04\n",
      "Epoch 9/15\n",
      "500/500 [==============================] - 2s 4ms/step - loss: 0.0012 - mean_squared_error: 0.0012\n",
      "Epoch 10/15\n",
      "500/500 [==============================] - 2s 4ms/step - loss: 9.5086e-07 - mean_squared_error: 9.5086e-07\n",
      "Epoch 11/15\n",
      "500/500 [==============================] - 2s 4ms/step - loss: 8.5029e-04 - mean_squared_error: 8.5029e-04\n",
      "Epoch 12/15\n",
      "500/500 [==============================] - 2s 4ms/step - loss: 2.4942e-04 - mean_squared_error: 2.4942e-04\n",
      "Epoch 13/15\n",
      "500/500 [==============================] - 2s 4ms/step - loss: 1.7738e-04 - mean_squared_error: 1.7738e-04\n",
      "Epoch 14/15\n",
      "500/500 [==============================] - 2s 4ms/step - loss: 4.2123e-04 - mean_squared_error: 4.2123e-04\n",
      "Epoch 15/15\n",
      "500/500 [==============================] - 2s 4ms/step - loss: 4.7767e-07 - mean_squared_error: 4.7767e-07\n"
     ]
    }
   ],
   "source": [
    "# train the model\n",
    "history = model.fit(train_ds, epochs=15,\n",
    "                    steps_per_epoch=500)"
   ]
  },
  {
   "cell_type": "code",
   "execution_count": 89,
   "metadata": {
    "colab": {
     "base_uri": "https://localhost:8080/",
     "height": 34
    },
    "colab_type": "code",
    "id": "ipa9pLzx4Yc7",
    "outputId": "4401a6d5-7050-44bb-e788-5d09deb7d193"
   },
   "outputs": [
    {
     "name": "stdout",
     "output_type": "stream",
     "text": [
      "6/6 [==============================] - 0s 61ms/step - loss: 0.1827 - mean_squared_error: 0.1827\n"
     ]
    }
   ],
   "source": [
    "# evaluate the model\n",
    "loss, mse = model.evaluate(test_ds)"
   ]
  },
  {
   "cell_type": "code",
   "execution_count": 90,
   "metadata": {
    "colab": {
     "base_uri": "https://localhost:8080/",
     "height": 51
    },
    "colab_type": "code",
    "id": "hCV5x74mBYPH",
    "outputId": "d8768a04-83a6-48b8-de3b-1cffdccf5949"
   },
   "outputs": [
    {
     "name": "stdout",
     "output_type": "stream",
     "text": [
      "Test loss: 0.1827\n",
      "Test mse: 0.1827\n"
     ]
    }
   ],
   "source": [
    "print('Test loss: {:.4f}'.format(loss))\n",
    "print('Test mse: {:.4f}'.format(mse))"
   ]
  },
  {
   "cell_type": "code",
   "execution_count": 91,
   "metadata": {
    "colab": {},
    "colab_type": "code",
    "id": "VPY1HASXBYTD"
   },
   "outputs": [],
   "source": [
    "# predict\n",
    "y_pred = model.predict(test_X)"
   ]
  },
  {
   "cell_type": "code",
   "execution_count": 92,
   "metadata": {
    "colab": {
     "base_uri": "https://localhost:8080/",
     "height": 295
    },
    "colab_type": "code",
    "id": "NipWqrsgBdXZ",
    "outputId": "ddcada21-a705-4505-cb25-b520a91a528a"
   },
   "outputs": [
    {
     "data": {
      "image/png": "[encoded data removed]",
      "text/plain": [
       "<Figure size 432x288 with 1 Axes>"
      ]
     },
     "metadata": {
      "needs_background": "light"
     },
     "output_type": "display_data"
    }
   ],
   "source": [
    "# plot\n",
    "plt.figure(1)\n",
    "plt.title(\"Keras - GRU RNN Model Testing for '{}' stock\".format(stock), fontsize=12)\n",
    "plt.plot(test_y, \"g--\", markersize=10, label=\"targets\")\n",
    "plt.plot(y_pred, \"r--\", markersize=10, label=\"model prediction\")\n",
    "plt.legend()\n",
    "plt.xlabel(\"Time\")\n",
    "plt.show()\n",
    "# plt.savefig('gru-bac-model.png', dpi=800)"
   ]
  },
  {
   "cell_type": "code",
   "execution_count": null,
   "metadata": {},
   "outputs": [],
   "source": []
  }
 ],
 "metadata": {
  "accelerator": "GPU",
  "colab": {
   "collapsed_sections": [
    "-CiPbtTYVcLI"
   ],
   "name": "recurrent_neural_networks.ipynb",
   "provenance": [],
   "version": "0.3.2"
  },
  "kernelspec": {
   "display_name": "Python 3",
   "language": "python",
   "name": "python3"
  },
  "language_info": {
   "codemirror_mode": {
    "name": "ipython",
    "version": 3
   },
   "file_extension": ".py",
   "mimetype": "text/x-python",
   "name": "python",
   "nbconvert_exporter": "python",
   "pygments_lexer": "ipython3",
   "version": "3.7.8"
  }
 },
 "nbformat": 4,
 "nbformat_minor": 4
}
